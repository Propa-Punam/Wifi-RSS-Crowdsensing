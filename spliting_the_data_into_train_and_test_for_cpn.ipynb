{
  "nbformat": 4,
  "nbformat_minor": 0,
  "metadata": {
    "colab": {
      "provenance": [],
      "authorship_tag": "ABX9TyMZTYChJuQp+6oaCp+iGYm7",
      "include_colab_link": true
    },
    "kernelspec": {
      "name": "python3",
      "display_name": "Python 3"
    },
    "language_info": {
      "name": "python"
    }
  },
  "cells": [
    {
      "cell_type": "markdown",
      "metadata": {
        "id": "view-in-github",
        "colab_type": "text"
      },
      "source": [
        "<a href=\"https://colab.research.google.com/github/Propa-Punam/Wifi-RSS-Crowdsensing/blob/main/spliting_the_data_into_train_and_test_for_cpn.ipynb\" target=\"_parent\"><img src=\"https://colab.research.google.com/assets/colab-badge.svg\" alt=\"Open In Colab\"/></a>"
      ]
    },
    {
      "cell_type": "code",
      "execution_count": 1,
      "metadata": {
        "colab": {
          "base_uri": "https://localhost:8080/"
        },
        "id": "hRNtoKA31dm0",
        "outputId": "b182b346-04d5-4b8e-8644-0fa14e3e5ece"
      },
      "outputs": [
        {
          "output_type": "stream",
          "name": "stdout",
          "text": [
            "Mounted at /content/drive\n",
            "Train and test datasets have been saved to Google Drive.\n"
          ]
        }
      ],
      "source": [
        "import pandas as pd\n",
        "import numpy as np\n",
        "from google.colab import drive\n",
        "\n",
        "# Mount Google Drive\n",
        "drive.mount('/content/drive')\n",
        "\n",
        "# Load the dataset\n",
        "file_path = '/content/drive/My Drive/ss1.csv'\n",
        "data = pd.read_csv(file_path)\n",
        "\n",
        "# Function to split data into train and test sets\n",
        "def split_data(df, train_frac=0.5):\n",
        "    train = df.sample(frac=train_frac, random_state=42)  # Randomly sample 50% for training\n",
        "    test = df.drop(train.index)  # The remaining 50% goes to test\n",
        "    return train, test\n",
        "\n",
        "# Split data by room\n",
        "room_203 = data[data['room'] == 203]\n",
        "room_204 = data[data['room'] == 204]\n",
        "\n",
        "# Split room 203 into train and test (50% each)\n",
        "train_203, test_203 = split_data(room_203)\n",
        "\n",
        "# Split room 204 into train and test (50% each)\n",
        "train_204, test_204 = split_data(room_204)\n",
        "\n",
        "# Combine the training and test sets\n",
        "train_data = pd.concat([train_203, train_204])\n",
        "test_data = pd.concat([test_203, test_204])\n",
        "\n",
        "# Save the datasets to Google Drive\n",
        "train_data.to_csv('/content/drive/My Drive/train.csv', index=False)\n",
        "test_data.to_csv('/content/drive/My Drive/test.csv', index=False)\n",
        "\n",
        "print(\"Train and test datasets have been saved to Google Drive.\")"
      ]
    }
  ]
}