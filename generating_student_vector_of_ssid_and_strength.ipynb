{
  "nbformat": 4,
  "nbformat_minor": 0,
  "metadata": {
    "colab": {
      "provenance": [],
      "authorship_tag": "ABX9TyNn1s1AVguMpLClng9/d+Lg",
      "include_colab_link": true
    },
    "kernelspec": {
      "name": "python3",
      "display_name": "Python 3"
    },
    "language_info": {
      "name": "python"
    }
  },
  "cells": [
    {
      "cell_type": "markdown",
      "metadata": {
        "id": "view-in-github",
        "colab_type": "text"
      },
      "source": [
        "<a href=\"https://colab.research.google.com/github/Propa-Punam/Wifi-RSS-Crowdsensing/blob/main/generating_student_vector_of_ssid_and_strength.ipynb\" target=\"_parent\"><img src=\"https://colab.research.google.com/assets/colab-badge.svg\" alt=\"Open In Colab\"/></a>"
      ]
    },
    {
      "cell_type": "code",
      "execution_count": 10,
      "metadata": {
        "colab": {
          "base_uri": "https://localhost:8080/"
        },
        "id": "VIm_Uu2ZgbOo",
        "outputId": "860d75d7-1807-4381-8cc2-e6726263a367"
      },
      "outputs": [
        {
          "output_type": "stream",
          "name": "stdout",
          "text": [
            "Drive already mounted at /content/drive; to attempt to forcibly remount, call drive.mount(\"/content/drive\", force_remount=True).\n",
            "Student vectors saved to /content/drive/My Drive/student_vectors.csv\n"
          ]
        }
      ],
      "source": [
        "from google.colab import drive\n",
        "import pandas as pd\n",
        "import os\n",
        "\n",
        "# Mount Google Drive\n",
        "drive.mount('/content/drive')\n",
        "\n",
        "# Define the allowed SSIDs\n",
        "allowed_ssids = {\n",
        "    \"Hall of Fame\", \"CSE-206\", \"CSE-104\", \"CSE-202\", \"CSE-205\",\n",
        "    \"CSE-304\", \"CSE-204\", \"CSE-303\", \"Galaxy M124213\", \"DataLab@BUET\"\n",
        "}\n",
        "\n",
        "def create_simple_vectors(base_path=\"/content/drive/My Drive\"):\n",
        "    # Folder paths\n",
        "    folders = ['203', '204', 'outside']\n",
        "    all_entries = pd.DataFrame()\n",
        "    all_scans = pd.DataFrame()\n",
        "\n",
        "    # Read data from all folders\n",
        "    for folder in folders:\n",
        "        folder_path = os.path.join(base_path, folder)\n",
        "        try:\n",
        "            entries = pd.read_csv(os.path.join(folder_path, \"entries.csv\"))\n",
        "            scans = pd.read_csv(os.path.join(folder_path, \"scan_lists.csv\"))\n",
        "            all_entries = pd.concat([all_entries, entries])\n",
        "            all_scans = pd.concat([all_scans, scans])\n",
        "        except FileNotFoundError:\n",
        "            print(f\"Warning: Could not find CSV files in {folder}\")\n",
        "\n",
        "    # Create student vectors\n",
        "    student_vectors = {}\n",
        "\n",
        "    # Process each student's data\n",
        "    for _, entry in all_entries.iterrows():\n",
        "        student_id = entry['StudentID']\n",
        "        entry_id = entry['entryId']\n",
        "\n",
        "        # Get scans for this entry\n",
        "        student_scans = all_scans[all_scans['entryId'] == entry_id]\n",
        "\n",
        "        # Initialize student vector if not exists\n",
        "        if student_id not in student_vectors:\n",
        "            student_vectors[student_id] = {ssid: -100 for ssid in allowed_ssids}\n",
        "\n",
        "        # Add scan data to student vector\n",
        "        for _, scan in student_scans.iterrows():\n",
        "            ssid = scan['SSID']\n",
        "            strength = scan['Strength']\n",
        "\n",
        "            # Only consider allowed SSIDs\n",
        "            if ssid in allowed_ssids:\n",
        "                student_vectors[student_id][ssid] = strength\n",
        "\n",
        "    return student_vectors\n",
        "\n",
        "# Create vectors\n",
        "student_vectors = create_simple_vectors()\n",
        "\n",
        "# Convert the student_vectors dictionary to a DataFrame\n",
        "student_vectors_df = pd.DataFrame.from_dict(student_vectors, orient='index')\n",
        "\n",
        "# Reset index to make StudentID a column\n",
        "student_vectors_df.reset_index(inplace=True)\n",
        "student_vectors_df.rename(columns={'index': 'StudentID'}, inplace=True)\n",
        "\n",
        "# Save the DataFrame to a CSV file\n",
        "output_path = \"/content/drive/My Drive/student_vectors.csv\"\n",
        "student_vectors_df.to_csv(output_path, index=False)\n",
        "\n",
        "print(f\"Student vectors saved to {output_path}\")\n"
      ]
    }
  ]
}