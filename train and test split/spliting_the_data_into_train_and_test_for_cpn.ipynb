{
  "nbformat": 4,
  "nbformat_minor": 0,
  "metadata": {
    "colab": {
      "provenance": [],
      "authorship_tag": "ABX9TyM6Vr4f/mY375YDAF8+UJbD",
      "include_colab_link": true
    },
    "kernelspec": {
      "name": "python3",
      "display_name": "Python 3"
    },
    "language_info": {
      "name": "python"
    }
  },
  "cells": [
    {
      "cell_type": "markdown",
      "metadata": {
        "id": "view-in-github",
        "colab_type": "text"
      },
      "source": [
        "<a href=\"https://colab.research.google.com/github/Propa-Punam/Wifi-RSS-Crowdsensing/blob/main/train%20and%20test%20split/spliting_the_data_into_train_and_test_for_cpn.ipynb\" target=\"_parent\"><img src=\"https://colab.research.google.com/assets/colab-badge.svg\" alt=\"Open In Colab\"/></a>"
      ]
    },
    {
      "cell_type": "code",
      "execution_count": 8,
      "metadata": {
        "colab": {
          "base_uri": "https://localhost:8080/"
        },
        "id": "hRNtoKA31dm0",
        "outputId": "2ada7219-b22f-4c20-ac2a-79866b281a32"
      },
      "outputs": [
        {
          "output_type": "stream",
          "name": "stdout",
          "text": [
            "Drive already mounted at /content/drive; to attempt to forcibly remount, call drive.mount(\"/content/drive\", force_remount=True).\n",
            "Train data saved to /content/drive/My Drive/train.csv\n",
            "Test data saved to /content/drive/My Drive/test.csv\n",
            "Metadata saved to /content/drive/My Drive/metadata.csv\n"
          ]
        }
      ],
      "source": [
        "import pandas as pd\n",
        "import numpy as np\n",
        "from google.colab import drive\n",
        "\n",
        "# Mount Google Drive\n",
        "drive.mount('/content/drive')\n",
        "\n",
        "# Load the dataset\n",
        "file_path = '/content/drive/My Drive/student_vectors.csv'\n",
        "data = pd.read_csv(file_path)\n",
        "\n",
        "# Function to split data into train and test sets\n",
        "def split_data(df, train_frac=0.5):\n",
        "    train = df.sample(frac=train_frac, random_state=42)\n",
        "    test = df.drop(train.index)\n",
        "    return train, test\n",
        "\n",
        "# Extract different rooms\n",
        "room_203 = data[data['room'] == '203']\n",
        "room_204 = data[data['room'] == '204']\n",
        "labeled_outside = data[data['room'].isin(['l1', 'l2', 'l3'])]  # Keep these in training\n",
        "\n",
        "# Split 203 and 204 into train/test (50/50)\n",
        "train_203, test_203 = split_data(room_203)\n",
        "train_204, test_204 = split_data(room_204)\n",
        "\n",
        "# Finalize train and test sets\n",
        "train_data = pd.concat([train_203, train_204, labeled_outside])  # Ensure l1, l2, l3 stay in train\n",
        "test_data = pd.concat([test_203, test_204])  # Test set excludes l1, l2, l3\n",
        "\n",
        "\n",
        "# Save datasets\n",
        "train_path = '/content/drive/My Drive/train.csv'\n",
        "test_path = '/content/drive/My Drive/test.csv'\n",
        "\n",
        "train_data.to_csv(train_path, index=False)\n",
        "test_data.to_csv(test_path, index=False)\n",
        "\n",
        "# Generate metadata\n",
        "metadata = pd.DataFrame({\n",
        "    'Room': train_data['room'].value_counts().index.tolist() + test_data['room'].value_counts().index.tolist(),\n",
        "    'Train Count': train_data['room'].value_counts().tolist() + [0] * len(test_data['room'].value_counts()),\n",
        "    'Test Count': [0] * len(train_data['room'].value_counts()) + test_data['room'].value_counts().tolist()\n",
        "})\n",
        "\n",
        "# Save metadata\n",
        "metadata_path = '/content/drive/My Drive/metadata.csv'\n",
        "metadata.to_csv(metadata_path, index=False)\n",
        "\n",
        "print(f\"Train data saved to {train_path}\")\n",
        "print(f\"Test data saved to {test_path}\")\n",
        "print(f\"Metadata saved to {metadata_path}\")\n"
      ]
    }
  ]
}