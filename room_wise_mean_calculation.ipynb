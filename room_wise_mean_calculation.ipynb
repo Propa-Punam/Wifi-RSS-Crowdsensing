{
  "nbformat": 4,
  "nbformat_minor": 0,
  "metadata": {
    "colab": {
      "provenance": [],
      "authorship_tag": "ABX9TyOCXMzwwwxYtTI2IVUr1RLU",
      "include_colab_link": true
    },
    "kernelspec": {
      "name": "python3",
      "display_name": "Python 3"
    },
    "language_info": {
      "name": "python"
    }
  },
  "cells": [
    {
      "cell_type": "markdown",
      "metadata": {
        "id": "view-in-github",
        "colab_type": "text"
      },
      "source": [
        "<a href=\"https://colab.research.google.com/github/Propa-Punam/Wifi-RSS-Crowdsensing/blob/main/room_wise_mean_calculation.ipynb\" target=\"_parent\"><img src=\"https://colab.research.google.com/assets/colab-badge.svg\" alt=\"Open In Colab\"/></a>"
      ]
    },
    {
      "cell_type": "code",
      "execution_count": 1,
      "metadata": {
        "colab": {
          "base_uri": "https://localhost:8080/"
        },
        "id": "2JrimvoBhZ35",
        "outputId": "1c307d16-de90-4397-b75b-7399dbfc7e68"
      },
      "outputs": [
        {
          "output_type": "stream",
          "name": "stdout",
          "text": [
            "Mounted at /content/drive\n",
            "Room-wise means for each access point:\n",
            "      CSE-306  CSE-304  CSE-401  CSE-104  CSE-205  CSE-G04  CSE-204  CSE-206  \\\n",
            "room                                                                           \n",
            "203    -82.33    -57.5   -90.17    -72.5   -73.75   -83.75    -61.5    -83.0   \n",
            "204    -88.40    -59.3   -90.30    -73.8   -75.80   -81.90    -64.6    -83.8   \n",
            "l1     -72.00    -67.0   -77.00    -70.0   -60.00   -73.00    -57.0    -69.0   \n",
            "l2     -72.00    -60.0   -81.00    -63.0   -59.00   -80.00    -69.0    -71.0   \n",
            "l3    -100.00    -61.0  -100.00    -82.0   -71.00  -100.00    -69.0    -74.0   \n",
            "\n",
            "      CSE-303  CSE-214  DataLab@BUET  \n",
            "room                                  \n",
            "203    -59.75   -96.75         -71.5  \n",
            "204    -61.30  -100.00         -72.3  \n",
            "l1     -52.00  -100.00         -66.0  \n",
            "l2     -55.00  -100.00         -66.0  \n",
            "l3     -64.00  -100.00         -79.0  \n",
            "\n",
            "Results saved to: /content/drive/MyDrive/room_wise_means.csv\n",
            "\n",
            "Means in a more readable format:\n",
            "      CSE-306  CSE-304  CSE-401  CSE-104  CSE-205  CSE-G04  CSE-204  CSE-206  \\\n",
            "room                                                                           \n",
            "203    -82.33    -57.5   -90.17    -72.5   -73.75   -83.75    -61.5    -83.0   \n",
            "204    -88.40    -59.3   -90.30    -73.8   -75.80   -81.90    -64.6    -83.8   \n",
            "l1     -72.00    -67.0   -77.00    -70.0   -60.00   -73.00    -57.0    -69.0   \n",
            "l2     -72.00    -60.0   -81.00    -63.0   -59.00   -80.00    -69.0    -71.0   \n",
            "l3    -100.00    -61.0  -100.00    -82.0   -71.00  -100.00    -69.0    -74.0   \n",
            "\n",
            "      CSE-303  CSE-214  DataLab@BUET  \n",
            "room                                  \n",
            "203    -59.75   -96.75         -71.5  \n",
            "204    -61.30  -100.00         -72.3  \n",
            "l1     -52.00  -100.00         -66.0  \n",
            "l2     -55.00  -100.00         -66.0  \n",
            "l3     -64.00  -100.00         -79.0  \n",
            "\n",
            "Overall mean signal strength for each room:\n",
            "room\n",
            "203   -75.68\n",
            "204   -77.41\n",
            "l1    -69.36\n",
            "l2    -70.55\n",
            "l3    -81.82\n",
            "Name: Overall_Mean, dtype: float64\n",
            "\n",
            "Updated results saved to: /content/drive/MyDrive/room_wise_means_with_overall.csv\n"
          ]
        }
      ],
      "source": [
        "import pandas as pd\n",
        "import numpy as np\n",
        "from google.colab import drive\n",
        "\n",
        "# Mount Google Drive\n",
        "drive.mount('/content/drive')\n",
        "\n",
        "# Read the CSV file\n",
        "df = pd.read_csv('/content/drive/MyDrive/train.csv')\n",
        "\n",
        "# Define the access points\n",
        "access_points = [\n",
        "    'CSE-306', 'CSE-304', 'CSE-401', 'CSE-104', 'CSE-205',\n",
        "    'CSE-G04', 'CSE-204', 'CSE-206', 'CSE-303', 'CSE-214', 'DataLab@BUET'\n",
        "]\n",
        "\n",
        "# Group by room and calculate mean for each access point\n",
        "room_means = df.groupby('room')[access_points].mean().round(2)\n",
        "\n",
        "# Print the means for verification\n",
        "print(\"Room-wise means for each access point:\")\n",
        "print(room_means)\n",
        "\n",
        "# Save the results to a new CSV file in Google Drive\n",
        "output_path = '/content/drive/MyDrive/room_wise_means.csv'\n",
        "room_means.to_csv(output_path)\n",
        "print(f\"\\nResults saved to: {output_path}\")\n",
        "\n",
        "# Optionally, create a more readable format with access points as columns and rooms as rows\n",
        "print(\"\\nMeans in a more readable format:\")\n",
        "print(room_means)\n",
        "\n",
        "# Additional analysis: Calculate overall mean signal strength for each room\n",
        "room_means['Overall_Mean'] = room_means.mean(axis=1).round(2)\n",
        "print(\"\\nOverall mean signal strength for each room:\")\n",
        "print(room_means['Overall_Mean'])\n",
        "\n",
        "# Save the updated results with overall mean\n",
        "room_means.to_csv('/content/drive/MyDrive/room_wise_means_with_overall.csv')\n",
        "print(f\"\\nUpdated results saved to: /content/drive/MyDrive/room_wise_means_with_overall.csv\")"
      ]
    }
  ]
}