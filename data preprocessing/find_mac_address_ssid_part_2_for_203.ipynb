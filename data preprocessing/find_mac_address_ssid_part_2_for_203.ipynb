{
  "nbformat": 4,
  "nbformat_minor": 0,
  "metadata": {
    "colab": {
      "provenance": [],
      "authorship_tag": "ABX9TyNqZxq3BvrGq9L09eP6SwrD",
      "include_colab_link": true
    },
    "kernelspec": {
      "name": "python3",
      "display_name": "Python 3"
    },
    "language_info": {
      "name": "python"
    }
  },
  "cells": [
    {
      "cell_type": "markdown",
      "metadata": {
        "id": "view-in-github",
        "colab_type": "text"
      },
      "source": [
        "<a href=\"https://colab.research.google.com/github/Propa-Punam/Wifi-RSS-Crowdsensing/blob/main/data%20preprocessing/find_mac_address_ssid_part_2_for_203.ipynb\" target=\"_parent\"><img src=\"https://colab.research.google.com/assets/colab-badge.svg\" alt=\"Open In Colab\"/></a>"
      ]
    },
    {
      "cell_type": "code",
      "execution_count": 1,
      "metadata": {
        "colab": {
          "base_uri": "https://localhost:8080/"
        },
        "id": "uD6hoeEvZdVG",
        "outputId": "23a7161c-4a45-4aab-8986-342378dd00e5"
      },
      "outputs": [
        {
          "output_type": "stream",
          "name": "stdout",
          "text": [
            "Mounted at /content/drive\n",
            "Filtered data has been saved to /content/drive/My Drive/filtered_wifi_data_203.csv\n",
            "Total records in filtered data: 1930\n",
            "\n",
            "Unique MAC addresses have been saved to /content/drive/My Drive/unique_mac_addresses_203.csv\n",
            "Total unique MAC-SSID pairs: 13\n",
            "\n",
            "First few rows of filtered data:\n",
            "   entryId  StudentID  scanGroupIndex         MacAddress          SSID  \\\n",
            "0        1    2005045               0  bc:22:28:21:09:24       CSE-205   \n",
            "1        1    2005045               0  bc:22:28:21:09:21       CSE-205   \n",
            "2        1    2005045               0  30:b5:c2:ea:5b:44  DataLab@BUET   \n",
            "3        1    2005045               0  60:63:4c:31:37:40       CSE-303   \n",
            "4        1    2005045               1  bc:22:28:21:09:24       CSE-205   \n",
            "\n",
            "   Strength  \n",
            "0       -50  \n",
            "1       -63  \n",
            "2       -68  \n",
            "3       -58  \n",
            "4       -50  \n",
            "\n",
            "First few rows of unique MAC addresses:\n",
            "          MacAddress     SSID\n",
            "8  bc:22:28:21:55:6e  CSE-104\n",
            "9  bc:22:28:21:55:6b  CSE-104\n",
            "4  00:22:b0:05:f3:bc  CSE-204\n",
            "0  bc:22:28:21:09:24  CSE-205\n",
            "3  bc:22:28:21:09:21  CSE-205\n"
          ]
        }
      ],
      "source": [
        "# Import required libraries\n",
        "import pandas as pd\n",
        "from google.colab import drive\n",
        "import os\n",
        "\n",
        "# Mount Google Drive\n",
        "drive.mount('/content/drive')\n",
        "\n",
        "# Define paths for input and output files in Google Drive\n",
        "input_path_entries = '/content/drive/My Drive/entries.csv'\n",
        "input_path_scans = '/content/drive/My Drive/scan_lists.csv'\n",
        "output_path_filtered = '/content/drive/My Drive/filtered_wifi_data_203.csv'\n",
        "output_path_unique_macs = '/content/drive/My Drive/unique_mac_addresses_203.csv'\n",
        "\n",
        "# Read the CSV files\n",
        "entries_df = pd.read_csv(input_path_entries)\n",
        "scans_df = pd.read_csv(input_path_scans)\n",
        "\n",
        "# List of SSIDs to filter\n",
        "target_ssids = [\n",
        "    \"CSE-206\", \"CSE-104\", \"CSE-202\", \"CSE-205\",\n",
        "    \"CSE-304\", \"CSE-204\", \"CSE-303\", \"DataLab@BUET\",\n",
        "    \"CSE-214\", \"CSE-G04\", \"CSE-401\", \"CSE-306\"\n",
        "]\n",
        "\n",
        "# Create lists to store the filtered data and unique MAC addresses\n",
        "filtered_data = []\n",
        "mac_ssid_pairs = set()  # Using a set to store unique MAC-SSID pairs\n",
        "\n",
        "# Iterate through each entry in entries.csv\n",
        "for _, entry_row in entries_df.iterrows():\n",
        "    entry_id = entry_row['entryId']\n",
        "    student_id = entry_row['StudentID']\n",
        "\n",
        "    # Get all scans for this entry_id\n",
        "    entry_scans = scans_df[scans_df['entryId'] == entry_id]\n",
        "\n",
        "    # Iterate through each scan group (0 to 19)\n",
        "    for scan_group in range(20):\n",
        "        group_scans = entry_scans[entry_scans['scanGroupIndex'] == scan_group]\n",
        "\n",
        "        # Filter for target SSIDs\n",
        "        for _, scan_row in group_scans.iterrows():\n",
        "            ssid = scan_row['SSID']\n",
        "            if ssid in target_ssids:\n",
        "                # Add to filtered data (for first output)\n",
        "                filtered_data.append({\n",
        "                    'entryId': entry_id,\n",
        "                    'StudentID': student_id,\n",
        "                    'scanGroupIndex': scan_group,\n",
        "                    'MacAddress': scan_row['MacAddress'],\n",
        "                    'SSID': ssid,\n",
        "                    'Strength': scan_row['Strength']\n",
        "                })\n",
        "\n",
        "                # Add to unique MAC-SSID pairs\n",
        "                mac_ssid_pairs.add((scan_row['MacAddress'], ssid))\n",
        "\n",
        "# Convert filtered data to DataFrame (first output)\n",
        "output_df_filtered = pd.DataFrame(filtered_data)\n",
        "output_df_filtered = output_df_filtered.sort_values(['entryId', 'scanGroupIndex'])\n",
        "\n",
        "# Convert unique MAC-SSID pairs to DataFrame (second output)\n",
        "unique_macs_data = [{'MacAddress': mac, 'SSID': ssid} for mac, ssid in mac_ssid_pairs]\n",
        "output_df_unique_macs = pd.DataFrame(unique_macs_data)\n",
        "output_df_unique_macs = output_df_unique_macs.sort_values('SSID')  # Sort by SSID for better readability\n",
        "\n",
        "# Save both DataFrames to CSV files in Google Drive\n",
        "output_df_filtered.to_csv(output_path_filtered, index=False)\n",
        "output_df_unique_macs.to_csv(output_path_unique_macs, index=False)\n",
        "\n",
        "# Print summary information\n",
        "print(f\"Filtered data has been saved to {output_path_filtered}\")\n",
        "print(f\"Total records in filtered data: {len(output_df_filtered)}\")\n",
        "print(f\"\\nUnique MAC addresses have been saved to {output_path_unique_macs}\")\n",
        "print(f\"Total unique MAC-SSID pairs: {len(output_df_unique_macs)}\")\n",
        "\n",
        "# Display the first few rows of both outputs\n",
        "print(\"\\nFirst few rows of filtered data:\")\n",
        "print(output_df_filtered.head())\n",
        "print(\"\\nFirst few rows of unique MAC addresses:\")\n",
        "print(output_df_unique_macs.head())"
      ]
    }
  ]
}