{
  "nbformat": 4,
  "nbformat_minor": 0,
  "metadata": {
    "colab": {
      "provenance": [],
      "authorship_tag": "ABX9TyPbfhpBtxhc8qd7BmYB5Atg",
      "include_colab_link": true
    },
    "kernelspec": {
      "name": "python3",
      "display_name": "Python 3"
    },
    "language_info": {
      "name": "python"
    }
  },
  "cells": [
    {
      "cell_type": "markdown",
      "metadata": {
        "id": "view-in-github",
        "colab_type": "text"
      },
      "source": [
        "<a href=\"https://colab.research.google.com/github/Propa-Punam/Wifi-RSS-Crowdsensing/blob/main/data%20preprocessing/only_matching_columns_are_retained_from_wifi_data.ipynb\" target=\"_parent\"><img src=\"https://colab.research.google.com/assets/colab-badge.svg\" alt=\"Open In Colab\"/></a>"
      ]
    },
    {
      "cell_type": "code",
      "execution_count": 7,
      "metadata": {
        "colab": {
          "base_uri": "https://localhost:8080/"
        },
        "id": "1C37k1zNZXUe",
        "outputId": "a654f6df-53e0-42c7-8334-4765545afcd4"
      },
      "outputs": [
        {
          "output_type": "stream",
          "name": "stdout",
          "text": [
            "Common SSIDs: ['CSE-205', 'CSE-304', 'CSE-214', 'CSE-204', 'CSE-206', 'CSE-G04', 'CSE-104', 'CSE-401', 'CSE-306']\n"
          ]
        }
      ],
      "source": [
        "import pandas as pd\n",
        "\n",
        "# Read the CSV file (update the file path accordingly)\n",
        "csv_file = \"/content/scan_lists.csv\"  # Replace with the actual path\n",
        "df = pd.read_csv(csv_file, delimiter=\",\")  # Assuming tab-separated values\n",
        "\n",
        "# Extract SSID column and convert it to a list\n",
        "ssid_list = df[\"SSID\"].astype(str).tolist()\n",
        "\n",
        "# Second list of SSIDs to compare\n",
        "second_list = [\n",
        "    \"CSE-G04\", \"CSE-G11&12\", \"CSE- IAC\", \"CSE-104\", \"CSE-107\", \"CSE-108\",\n",
        "    \"CSE-118\", \"CSE-203\", \"CSE-204\", \"CSE-205\", \"CSE-213\", \"CSE-214\",\n",
        "    \"CSE-217\", \"CSE-206\", \"CSE Office\", \"CSE-304\", \"CSE-306\", \"CSE-306P\",\n",
        "    \"CSE-4hT\", \"CSE-Lab\", \"CSE-401\", \"CSE-503*\", \"CSE-lobby\", \"CSE-512\",\n",
        "    \"CSE-904\", \"CSE-515\", \"CSE-9th Floor\"\n",
        "]\n",
        "\n",
        "# Find common SSIDs\n",
        "common_ssids = [ssid for ssid in ssid_list if ssid in second_list]\n",
        "common_ssids = list(set(common_ssids))\n",
        "\n",
        "print(\"Common SSIDs:\", common_ssids)\n"
      ]
    }
  ]
}