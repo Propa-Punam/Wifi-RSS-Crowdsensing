{
  "nbformat": 4,
  "nbformat_minor": 0,
  "metadata": {
    "colab": {
      "provenance": [],
      "authorship_tag": "ABX9TyMQXTTRwx89JihBO0xYmTzF",
      "include_colab_link": true
    },
    "kernelspec": {
      "name": "python3",
      "display_name": "Python 3"
    },
    "language_info": {
      "name": "python"
    }
  },
  "cells": [
    {
      "cell_type": "markdown",
      "metadata": {
        "id": "view-in-github",
        "colab_type": "text"
      },
      "source": [
        "<a href=\"https://colab.research.google.com/github/Propa-Punam/Wifi-RSS-Crowdsensing/blob/main/data%20preprocessing/train_test_split.ipynb\" target=\"_parent\"><img src=\"https://colab.research.google.com/assets/colab-badge.svg\" alt=\"Open In Colab\"/></a>"
      ]
    },
    {
      "cell_type": "code",
      "execution_count": 4,
      "metadata": {
        "colab": {
          "base_uri": "https://localhost:8080/"
        },
        "id": "Es3FveQRtpRd",
        "outputId": "86eaf701-21dd-4835-9335-8345659ef7a4"
      },
      "outputs": [
        {
          "output_type": "stream",
          "name": "stdout",
          "text": [
            "Drive already mounted at /content/drive; to attempt to forcibly remount, call drive.mount(\"/content/drive\", force_remount=True).\n",
            "Number of unique students in room 203: 24\n",
            "Number of unique students in room 204: 21\n",
            "Training set size: 286 rows\n",
            "Testing set size: 312 rows\n",
            "Unique students in train set: 22\n",
            "Unique students in test set: 23\n",
            "Training set saved to: /content/drive/My Drive/train_set.csv\n",
            "Testing set saved to: /content/drive/My Drive/test_set.csv\n"
          ]
        }
      ],
      "source": [
        "# Import necessary libraries\n",
        "import pandas as pd\n",
        "from sklearn.model_selection import train_test_split\n",
        "from google.colab import drive\n",
        "import os\n",
        "\n",
        "# Mount Google Drive\n",
        "drive.mount('/content/drive')\n",
        "\n",
        "# Define paths for input and output files in Google Drive\n",
        "input_path_203 = '/content/drive/My Drive/input_of_203.csv'\n",
        "input_path_204 = '/content/drive/My Drive/input_of_204.csv'\n",
        "output_train_path = '/content/drive/My Drive/train_set.csv'\n",
        "output_test_path = '/content/drive/My Drive/test_set.csv'\n",
        "\n",
        "# Read the CSV files\n",
        "df_203 = pd.read_csv(input_path_203)\n",
        "df_204 = pd.read_csv(input_path_204)\n",
        "\n",
        "# Verify the number of students\n",
        "num_students_203 = df_203['StudentID'].nunique()\n",
        "num_students_204 = df_204['StudentID'].nunique()\n",
        "print(f\"Number of unique students in room 203: {num_students_203}\")\n",
        "print(f\"Number of unique students in room 204: {num_students_204}\")\n",
        "\n",
        "# Since we need to split by students, get unique StudentIDs\n",
        "students_203 = df_203['StudentID'].unique()\n",
        "students_204 = df_204['StudentID'].unique()\n",
        "\n",
        "# Randomly select 50% of students from each room for training\n",
        "train_students_203, test_students_203 = train_test_split(students_203, test_size=0.5, random_state=42)\n",
        "train_students_204, test_students_204 = train_test_split(students_204, test_size=0.5, random_state=42)\n",
        "\n",
        "# Filter the dataframes based on selected StudentIDs\n",
        "train_203 = df_203[df_203['StudentID'].isin(train_students_203)]\n",
        "test_203 = df_203[df_203['StudentID'].isin(test_students_203)]\n",
        "train_204 = df_204[df_204['StudentID'].isin(train_students_204)]\n",
        "test_204 = df_204[df_204['StudentID'].isin(test_students_204)]\n",
        "\n",
        "# Combine the training and testing sets\n",
        "train_set = pd.concat([train_203, train_204], ignore_index=True)\n",
        "test_set = pd.concat([test_203, test_204], ignore_index=True)\n",
        "\n",
        "# Verify the sizes\n",
        "print(f\"Training set size: {len(train_set)} rows\")\n",
        "print(f\"Testing set size: {len(test_set)} rows\")\n",
        "print(f\"Unique students in train set: {train_set['StudentID'].nunique()}\")\n",
        "print(f\"Unique students in test set: {test_set['StudentID'].nunique()}\")\n",
        "\n",
        "# Save the train and test sets to Google Drive\n",
        "train_set.to_csv(output_train_path, index=False)\n",
        "test_set.to_csv(output_test_path, index=False)\n",
        "\n",
        "print(f\"Training set saved to: {output_train_path}\")\n",
        "print(f\"Testing set saved to: {output_test_path}\")"
      ]
    }
  ]
}