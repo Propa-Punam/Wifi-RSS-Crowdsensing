{
  "nbformat": 4,
  "nbformat_minor": 0,
  "metadata": {
    "colab": {
      "provenance": [],
      "authorship_tag": "ABX9TyNQPHMdHVktUzdxXJ+KU7et",
      "include_colab_link": true
    },
    "kernelspec": {
      "name": "python3",
      "display_name": "Python 3"
    },
    "language_info": {
      "name": "python"
    }
  },
  "cells": [
    {
      "cell_type": "markdown",
      "metadata": {
        "id": "view-in-github",
        "colab_type": "text"
      },
      "source": [
        "<a href=\"https://colab.research.google.com/github/Propa-Punam/Wifi-RSS-Crowdsensing/blob/main/data%20preprocessing/find_the_macaddress_and_strength_2.ipynb\" target=\"_parent\"><img src=\"https://colab.research.google.com/assets/colab-badge.svg\" alt=\"Open In Colab\"/></a>"
      ]
    },
    {
      "cell_type": "code",
      "execution_count": 1,
      "metadata": {
        "colab": {
          "base_uri": "https://localhost:8080/"
        },
        "id": "JflRzW0XE-ly",
        "outputId": "018fbe1f-6abb-495e-f2c3-1ec74feffc07"
      },
      "outputs": [
        {
          "output_type": "stream",
          "name": "stdout",
          "text": [
            "Mounted at /content/drive\n"
          ]
        },
        {
          "output_type": "stream",
          "name": "stderr",
          "text": [
            "<ipython-input-1-224528728993>:58: SettingWithCopyWarning: \n",
            "A value is trying to be set on a copy of a slice from a DataFrame.\n",
            "Try using .loc[row_indexer,col_indexer] = value instead\n",
            "\n",
            "See the caveats in the documentation: https://pandas.pydata.org/pandas-docs/stable/user_guide/indexing.html#returning-a-view-versus-a-copy\n",
            "  output_df['room'] = '203'\n"
          ]
        },
        {
          "output_type": "stream",
          "name": "stdout",
          "text": [
            "Output written to /content/drive/My Drive/input_of_203.csv\n"
          ]
        }
      ],
      "source": [
        "# Import necessary libraries\n",
        "import pandas as pd\n",
        "import numpy as np\n",
        "from math import floor\n",
        "from google.colab import drive\n",
        "\n",
        "# Mount Google Drive\n",
        "drive.mount('/content/drive')\n",
        "\n",
        "# Define input and output file paths in Google Drive\n",
        "input_file = '/content/drive/My Drive/strength_203.csv'  # Adjust the path as needed\n",
        "output_file = '/content/drive/My Drive/input_of_203.csv'  # Adjust the path as needed\n",
        "\n",
        "# Read the CSV file\n",
        "df = pd.read_csv(input_file)\n",
        "\n",
        "# Define the columns that contain strength values\n",
        "strength_columns = [f'Strength_scan_{i}' for i in range(20)]\n",
        "\n",
        "# Function to process each row and compute the average of the middle 60% values\n",
        "def compute_middle_average(row):\n",
        "    # Get the Strength_Count\n",
        "    strength_count = row['Strength_Count']\n",
        "\n",
        "    # Extract the strength values (non-empty)\n",
        "    strength_values = [row[col] for col in strength_columns if pd.notna(row[col])]\n",
        "\n",
        "    # Ensure we only take Strength_Count number of values (should match, but just in case)\n",
        "    strength_values = strength_values[:strength_count]\n",
        "\n",
        "    if strength_count == 0:\n",
        "        return np.nan  # Return NaN if no values to process\n",
        "\n",
        "    # Calculate the number of values to exclude from each end (20% of Strength_Count)\n",
        "    num_outliers_each_end = floor(strength_count * 0.2)\n",
        "\n",
        "    # Calculate the number of values to keep (middle 60%)\n",
        "    num_middle = strength_count - 2 * num_outliers_each_end\n",
        "\n",
        "    if num_middle <= 0:\n",
        "        return np.nan  # If no middle values remain, return NaN\n",
        "\n",
        "    # Keep the middle values\n",
        "    start_index = num_outliers_each_end\n",
        "    end_index = strength_count - num_outliers_each_end\n",
        "    middle_values = strength_values[start_index:end_index]\n",
        "\n",
        "    # Compute the average of the middle values\n",
        "    return np.mean(middle_values)\n",
        "\n",
        "# Apply the function to each row and create a new column for the average\n",
        "df['Middle_Average_Strength'] = df.apply(compute_middle_average, axis=1)\n",
        "\n",
        "# Select the columns to include in the output\n",
        "output_df = df[['entryId', 'StudentID', 'MacAddress', 'SSID', 'Middle_Average_Strength']]\n",
        "\n",
        "# Add a 'room' column with value '203' for all rows\n",
        "output_df['room'] = '203'\n",
        "\n",
        "# Write the output to a new CSV file in Google Drive\n",
        "output_df.to_csv(output_file, index=False)\n",
        "\n",
        "print(f\"Output written to {output_file}\")"
      ]
    }
  ]
}